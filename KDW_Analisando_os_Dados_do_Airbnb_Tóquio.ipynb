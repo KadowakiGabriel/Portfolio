{
  "nbformat": 4,
  "nbformat_minor": 0,
  "metadata": {
    "colab": {
      "provenance": [],
      "toc_visible": true,
      "include_colab_link": true
    },
    "kernelspec": {
      "name": "python3",
      "display_name": "Python 3"
    }
  },
  "cells": [
    {
      "cell_type": "markdown",
      "metadata": {
        "id": "view-in-github",
        "colab_type": "text"
      },
      "source": [
        "<a href=\"https://colab.research.google.com/github/KadowakiGabriel/Portfolio/blob/main/KDW_Analisando_os_Dados_do_Airbnb_T%C3%B3quio.ipynb\" target=\"_parent\"><img src=\"https://colab.research.google.com/assets/colab-badge.svg\" alt=\"Open In Colab\"/></a>"
      ]
    },
    {
      "cell_type": "markdown",
      "metadata": {
        "id": "kLI0gJtzDGuQ"
      },
      "source": [
        "<img alt=\"Internet da xuxa\" width=\"100%\" src=\"https://images.memberkit.com.br/eyJfcmFpbHMiOnsibWVzc2FnZSI6IkJBaHBBNnVISEE9PSIsImV4cCI6bnVsbCwicHVyIjoiYmxvYl9pZCJ9fQ%3D%3D--6bbf3b54ab8bafcbd9d0e6b39576f5126add6b7b/2Artboard%201.png?width=300&height=50\">\n",
        "\n",
        "\n",
        "# Análise dos Dados do Airbnb - Tóquio\n",
        "\n",
        "\n",
        "Hoje em dia todos conhecem alguém que já se hospedou ou ouviu algum amigo comentando sobre essa plataforma.\n",
        "\n",
        "Aqueles que tiveram a oportunidade de alugar um [Airbnb](https://www.airbnb.com.br/), já fazem parte de **um bilhão de usuários** que passaram por essa alternativa econômica e diferenciada.\n",
        "\n",
        "Contando com mais de 6 milhões de anúncios ativos, o Airbnb facilita o planejamento dos viajantes. E não apenas para aqueles que vão passar apenas um final de semana na Praia do Rosa, mas também, os *guests* que ficam anos morando em alguma acomodação deste site.\n",
        "\n",
        "Atualmente, a gigante hoteleira publica dados úteis sobre as maiores cidades do mundo pelo portal [Inside Airbnb](http://insideairbnb.com/get-the-data.html). Neste site, podemos baixar e analisar os dados de diversos municípios utilizando os conceitos de *Data Science*!\n",
        "\n",
        "\n",
        "\n",
        "\n",
        "\n",
        "\n",
        "<center><img alt=\"Analisando Airbnb\" width=\"20%\" src=\"https://www.area360.com.au/wp-content/uploads/2017/09/airbnb-logo.jpg\"></center>\n",
        "\n",
        "Neste *notebook* do *Google Colaboratory* iremos apresentar alguns dados e conclusões sobre a cidade de **Tóquio**, na terra do Sol Nascente.\n",
        "\n",
        "\n",
        "---\n",
        "\n",
        "\n",
        "######*by [Gabriel Kadowaki](https://www.linkedin.com/in/gabriel-cirilo-55180724b/)* - aluno do curso Sigmoidal\n"
      ]
    },
    {
      "cell_type": "markdown",
      "metadata": {
        "id": "0zxQHhIUDF_2"
      },
      "source": [
        "## Obtenção dos Dados\n"
      ]
    },
    {
      "cell_type": "markdown",
      "source": [],
      "metadata": {
        "id": "K81fjOfduqTB"
      }
    },
    {
      "cell_type": "code",
      "metadata": {
        "id": "Vhp2wMPgJ6zX",
        "colab": {
          "base_uri": "https://localhost:8080/"
        },
        "outputId": "0b32b402-32ac-4976-fa42-859489560157"
      },
      "source": [
        "# importar os pacotes necessarios\n",
        "import pandas as pd\n",
        "import matplotlib.pyplot as plt\n",
        "import seaborn as sns\n",
        "from google.colab import drive\n",
        "drive.mount('/content/drive')\n",
        "%matplotlib inline"
      ],
      "execution_count": 81,
      "outputs": [
        {
          "output_type": "stream",
          "name": "stdout",
          "text": [
            "Drive already mounted at /content/drive; to attempt to forcibly remount, call drive.mount(\"/content/drive\", force_remount=True).\n"
          ]
        }
      ]
    },
    {
      "cell_type": "code",
      "metadata": {
        "id": "tUmoAT8DLQ5T",
        "colab": {
          "base_uri": "https://localhost:8080/",
          "height": 704
        },
        "outputId": "0d1170c7-31fd-48f3-a2d9-de7dae53328c"
      },
      "source": [
        "# importar o arquivo listings.csv para um DataFrame\n",
        "\n",
        "df = pd.read_csv('/content/drive/MyDrive/DS/listings.csv')\n",
        "df.head()\n"
      ],
      "execution_count": 82,
      "outputs": [
        {
          "output_type": "execute_result",
          "data": {
            "text/plain": [
              "         id                                               name    host_id  \\\n",
              "0  45120811             Guest House  7 min to Disney, New open  289820207   \n",
              "1  40069353                                             留连之家民宿   39884149   \n",
              "2  39568366   Museum House！202探し歩き回る時間がもったいない!最寄り駅徒歩2分ディズニー25分  184746369   \n",
              "3  25414793       Free boxing training! 2 bunk beds dormitory.  162227924   \n",
              "4   9032305  Good Location! Near Tokyo Disneyland and Airport!   47146177   \n",
              "\n",
              "  host_name  neighbourhood_group neighbourhood  latitude  longitude  \\\n",
              "0      Koki                  NaN    Edogawa Ku  35.65802  139.89506   \n",
              "1        钦雄                  NaN    Edogawa Ku  35.71645  139.92855   \n",
              "2  Takahiro                  NaN    Edogawa Ku  35.67108  139.90337   \n",
              "3       Kai                  NaN  Hachioji Shi  35.63138  139.20242   \n",
              "4   Satoshi                  NaN    Edogawa Ku  35.71470  139.92604   \n",
              "\n",
              "         room_type  price  minimum_nights  number_of_reviews last_review  \\\n",
              "0  Entire home/apt  17400               1                 23  2022-08-20   \n",
              "1  Entire home/apt   3266               2                 14  2022-08-15   \n",
              "2  Entire home/apt  10000               3                  9  2021-02-19   \n",
              "3      Shared room   4500               1                 74  2022-05-04   \n",
              "4  Entire home/apt  11000               2                111  2022-08-31   \n",
              "\n",
              "   reviews_per_month  calculated_host_listings_count  availability_365  \\\n",
              "0               0.95                               1               258   \n",
              "1               0.42                               2                41   \n",
              "2               0.26                               2                88   \n",
              "3               1.41                               2                56   \n",
              "4               1.47                               1               161   \n",
              "\n",
              "   number_of_reviews_ltm                                            license  \n",
              "0                     12                                         M120025987  \n",
              "1                      6                                         M120020038  \n",
              "2                      0                                         M120020993  \n",
              "3                      5  Hotels and Inns Business Act | 相模原市保健所 | 相模原市指...  \n",
              "4                      9                                         M120000370  "
            ],
            "text/html": [
              "\n",
              "  <div id=\"df-cf2840e6-3cd3-420d-8d93-23f65780dd3f\">\n",
              "    <div class=\"colab-df-container\">\n",
              "      <div>\n",
              "<style scoped>\n",
              "    .dataframe tbody tr th:only-of-type {\n",
              "        vertical-align: middle;\n",
              "    }\n",
              "\n",
              "    .dataframe tbody tr th {\n",
              "        vertical-align: top;\n",
              "    }\n",
              "\n",
              "    .dataframe thead th {\n",
              "        text-align: right;\n",
              "    }\n",
              "</style>\n",
              "<table border=\"1\" class=\"dataframe\">\n",
              "  <thead>\n",
              "    <tr style=\"text-align: right;\">\n",
              "      <th></th>\n",
              "      <th>id</th>\n",
              "      <th>name</th>\n",
              "      <th>host_id</th>\n",
              "      <th>host_name</th>\n",
              "      <th>neighbourhood_group</th>\n",
              "      <th>neighbourhood</th>\n",
              "      <th>latitude</th>\n",
              "      <th>longitude</th>\n",
              "      <th>room_type</th>\n",
              "      <th>price</th>\n",
              "      <th>minimum_nights</th>\n",
              "      <th>number_of_reviews</th>\n",
              "      <th>last_review</th>\n",
              "      <th>reviews_per_month</th>\n",
              "      <th>calculated_host_listings_count</th>\n",
              "      <th>availability_365</th>\n",
              "      <th>number_of_reviews_ltm</th>\n",
              "      <th>license</th>\n",
              "    </tr>\n",
              "  </thead>\n",
              "  <tbody>\n",
              "    <tr>\n",
              "      <th>0</th>\n",
              "      <td>45120811</td>\n",
              "      <td>Guest House  7 min to Disney, New open</td>\n",
              "      <td>289820207</td>\n",
              "      <td>Koki</td>\n",
              "      <td>NaN</td>\n",
              "      <td>Edogawa Ku</td>\n",
              "      <td>35.65802</td>\n",
              "      <td>139.89506</td>\n",
              "      <td>Entire home/apt</td>\n",
              "      <td>17400</td>\n",
              "      <td>1</td>\n",
              "      <td>23</td>\n",
              "      <td>2022-08-20</td>\n",
              "      <td>0.95</td>\n",
              "      <td>1</td>\n",
              "      <td>258</td>\n",
              "      <td>12</td>\n",
              "      <td>M120025987</td>\n",
              "    </tr>\n",
              "    <tr>\n",
              "      <th>1</th>\n",
              "      <td>40069353</td>\n",
              "      <td>留连之家民宿</td>\n",
              "      <td>39884149</td>\n",
              "      <td>钦雄</td>\n",
              "      <td>NaN</td>\n",
              "      <td>Edogawa Ku</td>\n",
              "      <td>35.71645</td>\n",
              "      <td>139.92855</td>\n",
              "      <td>Entire home/apt</td>\n",
              "      <td>3266</td>\n",
              "      <td>2</td>\n",
              "      <td>14</td>\n",
              "      <td>2022-08-15</td>\n",
              "      <td>0.42</td>\n",
              "      <td>2</td>\n",
              "      <td>41</td>\n",
              "      <td>6</td>\n",
              "      <td>M120020038</td>\n",
              "    </tr>\n",
              "    <tr>\n",
              "      <th>2</th>\n",
              "      <td>39568366</td>\n",
              "      <td>Museum House！202探し歩き回る時間がもったいない!最寄り駅徒歩2分ディズニー25分</td>\n",
              "      <td>184746369</td>\n",
              "      <td>Takahiro</td>\n",
              "      <td>NaN</td>\n",
              "      <td>Edogawa Ku</td>\n",
              "      <td>35.67108</td>\n",
              "      <td>139.90337</td>\n",
              "      <td>Entire home/apt</td>\n",
              "      <td>10000</td>\n",
              "      <td>3</td>\n",
              "      <td>9</td>\n",
              "      <td>2021-02-19</td>\n",
              "      <td>0.26</td>\n",
              "      <td>2</td>\n",
              "      <td>88</td>\n",
              "      <td>0</td>\n",
              "      <td>M120020993</td>\n",
              "    </tr>\n",
              "    <tr>\n",
              "      <th>3</th>\n",
              "      <td>25414793</td>\n",
              "      <td>Free boxing training! 2 bunk beds dormitory.</td>\n",
              "      <td>162227924</td>\n",
              "      <td>Kai</td>\n",
              "      <td>NaN</td>\n",
              "      <td>Hachioji Shi</td>\n",
              "      <td>35.63138</td>\n",
              "      <td>139.20242</td>\n",
              "      <td>Shared room</td>\n",
              "      <td>4500</td>\n",
              "      <td>1</td>\n",
              "      <td>74</td>\n",
              "      <td>2022-05-04</td>\n",
              "      <td>1.41</td>\n",
              "      <td>2</td>\n",
              "      <td>56</td>\n",
              "      <td>5</td>\n",
              "      <td>Hotels and Inns Business Act | 相模原市保健所 | 相模原市指...</td>\n",
              "    </tr>\n",
              "    <tr>\n",
              "      <th>4</th>\n",
              "      <td>9032305</td>\n",
              "      <td>Good Location! Near Tokyo Disneyland and Airport!</td>\n",
              "      <td>47146177</td>\n",
              "      <td>Satoshi</td>\n",
              "      <td>NaN</td>\n",
              "      <td>Edogawa Ku</td>\n",
              "      <td>35.71470</td>\n",
              "      <td>139.92604</td>\n",
              "      <td>Entire home/apt</td>\n",
              "      <td>11000</td>\n",
              "      <td>2</td>\n",
              "      <td>111</td>\n",
              "      <td>2022-08-31</td>\n",
              "      <td>1.47</td>\n",
              "      <td>1</td>\n",
              "      <td>161</td>\n",
              "      <td>9</td>\n",
              "      <td>M120000370</td>\n",
              "    </tr>\n",
              "  </tbody>\n",
              "</table>\n",
              "</div>\n",
              "      <button class=\"colab-df-convert\" onclick=\"convertToInteractive('df-cf2840e6-3cd3-420d-8d93-23f65780dd3f')\"\n",
              "              title=\"Convert this dataframe to an interactive table.\"\n",
              "              style=\"display:none;\">\n",
              "        \n",
              "  <svg xmlns=\"http://www.w3.org/2000/svg\" height=\"24px\"viewBox=\"0 0 24 24\"\n",
              "       width=\"24px\">\n",
              "    <path d=\"M0 0h24v24H0V0z\" fill=\"none\"/>\n",
              "    <path d=\"M18.56 5.44l.94 2.06.94-2.06 2.06-.94-2.06-.94-.94-2.06-.94 2.06-2.06.94zm-11 1L8.5 8.5l.94-2.06 2.06-.94-2.06-.94L8.5 2.5l-.94 2.06-2.06.94zm10 10l.94 2.06.94-2.06 2.06-.94-2.06-.94-.94-2.06-.94 2.06-2.06.94z\"/><path d=\"M17.41 7.96l-1.37-1.37c-.4-.4-.92-.59-1.43-.59-.52 0-1.04.2-1.43.59L10.3 9.45l-7.72 7.72c-.78.78-.78 2.05 0 2.83L4 21.41c.39.39.9.59 1.41.59.51 0 1.02-.2 1.41-.59l7.78-7.78 2.81-2.81c.8-.78.8-2.07 0-2.86zM5.41 20L4 18.59l7.72-7.72 1.47 1.35L5.41 20z\"/>\n",
              "  </svg>\n",
              "      </button>\n",
              "      \n",
              "  <style>\n",
              "    .colab-df-container {\n",
              "      display:flex;\n",
              "      flex-wrap:wrap;\n",
              "      gap: 12px;\n",
              "    }\n",
              "\n",
              "    .colab-df-convert {\n",
              "      background-color: #E8F0FE;\n",
              "      border: none;\n",
              "      border-radius: 50%;\n",
              "      cursor: pointer;\n",
              "      display: none;\n",
              "      fill: #1967D2;\n",
              "      height: 32px;\n",
              "      padding: 0 0 0 0;\n",
              "      width: 32px;\n",
              "    }\n",
              "\n",
              "    .colab-df-convert:hover {\n",
              "      background-color: #E2EBFA;\n",
              "      box-shadow: 0px 1px 2px rgba(60, 64, 67, 0.3), 0px 1px 3px 1px rgba(60, 64, 67, 0.15);\n",
              "      fill: #174EA6;\n",
              "    }\n",
              "\n",
              "    [theme=dark] .colab-df-convert {\n",
              "      background-color: #3B4455;\n",
              "      fill: #D2E3FC;\n",
              "    }\n",
              "\n",
              "    [theme=dark] .colab-df-convert:hover {\n",
              "      background-color: #434B5C;\n",
              "      box-shadow: 0px 1px 3px 1px rgba(0, 0, 0, 0.15);\n",
              "      filter: drop-shadow(0px 1px 2px rgba(0, 0, 0, 0.3));\n",
              "      fill: #FFFFFF;\n",
              "    }\n",
              "  </style>\n",
              "\n",
              "      <script>\n",
              "        const buttonEl =\n",
              "          document.querySelector('#df-cf2840e6-3cd3-420d-8d93-23f65780dd3f button.colab-df-convert');\n",
              "        buttonEl.style.display =\n",
              "          google.colab.kernel.accessAllowed ? 'block' : 'none';\n",
              "\n",
              "        async function convertToInteractive(key) {\n",
              "          const element = document.querySelector('#df-cf2840e6-3cd3-420d-8d93-23f65780dd3f');\n",
              "          const dataTable =\n",
              "            await google.colab.kernel.invokeFunction('convertToInteractive',\n",
              "                                                     [key], {});\n",
              "          if (!dataTable) return;\n",
              "\n",
              "          const docLinkHtml = 'Like what you see? Visit the ' +\n",
              "            '<a target=\"_blank\" href=https://colab.research.google.com/notebooks/data_table.ipynb>data table notebook</a>'\n",
              "            + ' to learn more about interactive tables.';\n",
              "          element.innerHTML = '';\n",
              "          dataTable['output_type'] = 'display_data';\n",
              "          await google.colab.output.renderOutput(dataTable, element);\n",
              "          const docLink = document.createElement('div');\n",
              "          docLink.innerHTML = docLinkHtml;\n",
              "          element.appendChild(docLink);\n",
              "        }\n",
              "      </script>\n",
              "    </div>\n",
              "  </div>\n",
              "  "
            ]
          },
          "metadata": {},
          "execution_count": 82
        }
      ]
    },
    {
      "cell_type": "markdown",
      "metadata": {
        "id": "qb5By2nIMS6m"
      },
      "source": [
        "## Análise dos Dados\n"
      ]
    },
    {
      "cell_type": "markdown",
      "metadata": {
        "id": "RYgvuebKNg8-"
      },
      "source": [
        "**Dicionário das variáveis**\n",
        "\n",
        "* **id** - número de identificação único da propriedade\n",
        "* **name** - nome da propriedade anunciada\n",
        "* **host_id** - número de identificação do host (proprietário)\n",
        "* **host_name** - nome do host (proprietário)\n",
        "* **neighbourhood_group** - A vizinhança é geocodificada usando a latitude e a longitude em relação às vizinhanças definidas por shapefiles digitais abertos ou públicos. Sem valores neste projeto.\n",
        "* **neighbourhood** - nome do bairro\n",
        "* **latitude** - coordenadas de latitude para a localização da propriedade\n",
        "* **longitude** - coordenadas de longitude para a localização da propriedade\n",
        "* **room_type** - é o tipo da acomodação, existem [quatro](https://www.airbnb.com.br/help/article/5) tipos.\n",
        "* **price** - preço diário na moeda local\n",
        "* **minimum_nights** - quantidade de noites mínimas que a acomadação aceita\n",
        "* **number_of_reviews** - quantos reviews existem para esta acomodação\n",
        "* **last_review** - qual foi o último review da acomodação\n",
        "* **reviews_per_month** - quantos reviews por mês existem para esta acomodação\n",
        "* **calculated_host_listings_count** - quantas propriedades o host tem cadastradas nos airbnb\n",
        "* **availability_365** - número de dias disponíveis ao longo do ano\n",
        "* **number_of_reviews_ltm** - quantidade de reviews da propriedade no último ano (last twelve months)\n",
        "* **license** - número de registro e autorização da propriedade\n",
        "\n",
        "Inicialmente, vamos verificar como estão dispostos os dados dentro da nossa tabela."
      ]
    },
    {
      "cell_type": "code",
      "metadata": {
        "id": "2iS_dae7YQtO",
        "colab": {
          "base_uri": "https://localhost:8080/",
          "height": 298
        },
        "outputId": "9c30bce8-d6c7-4c52-d086-14a0c4cc573d"
      },
      "source": [
        "# mostrar as 5 primeiras entradas\n",
        "df.head(2)"
      ],
      "execution_count": 83,
      "outputs": [
        {
          "output_type": "execute_result",
          "data": {
            "text/plain": [
              "         id                                    name    host_id host_name  \\\n",
              "0  45120811  Guest House  7 min to Disney, New open  289820207      Koki   \n",
              "1  40069353                                  留连之家民宿   39884149        钦雄   \n",
              "\n",
              "   neighbourhood_group neighbourhood  latitude  longitude        room_type  \\\n",
              "0                  NaN    Edogawa Ku  35.65802  139.89506  Entire home/apt   \n",
              "1                  NaN    Edogawa Ku  35.71645  139.92855  Entire home/apt   \n",
              "\n",
              "   price  minimum_nights  number_of_reviews last_review  reviews_per_month  \\\n",
              "0  17400               1                 23  2022-08-20               0.95   \n",
              "1   3266               2                 14  2022-08-15               0.42   \n",
              "\n",
              "   calculated_host_listings_count  availability_365  number_of_reviews_ltm  \\\n",
              "0                               1               258                     12   \n",
              "1                               2                41                      6   \n",
              "\n",
              "      license  \n",
              "0  M120025987  \n",
              "1  M120020038  "
            ],
            "text/html": [
              "\n",
              "  <div id=\"df-9391f9bb-7c72-4bfe-9e40-e20f4c23c24b\">\n",
              "    <div class=\"colab-df-container\">\n",
              "      <div>\n",
              "<style scoped>\n",
              "    .dataframe tbody tr th:only-of-type {\n",
              "        vertical-align: middle;\n",
              "    }\n",
              "\n",
              "    .dataframe tbody tr th {\n",
              "        vertical-align: top;\n",
              "    }\n",
              "\n",
              "    .dataframe thead th {\n",
              "        text-align: right;\n",
              "    }\n",
              "</style>\n",
              "<table border=\"1\" class=\"dataframe\">\n",
              "  <thead>\n",
              "    <tr style=\"text-align: right;\">\n",
              "      <th></th>\n",
              "      <th>id</th>\n",
              "      <th>name</th>\n",
              "      <th>host_id</th>\n",
              "      <th>host_name</th>\n",
              "      <th>neighbourhood_group</th>\n",
              "      <th>neighbourhood</th>\n",
              "      <th>latitude</th>\n",
              "      <th>longitude</th>\n",
              "      <th>room_type</th>\n",
              "      <th>price</th>\n",
              "      <th>minimum_nights</th>\n",
              "      <th>number_of_reviews</th>\n",
              "      <th>last_review</th>\n",
              "      <th>reviews_per_month</th>\n",
              "      <th>calculated_host_listings_count</th>\n",
              "      <th>availability_365</th>\n",
              "      <th>number_of_reviews_ltm</th>\n",
              "      <th>license</th>\n",
              "    </tr>\n",
              "  </thead>\n",
              "  <tbody>\n",
              "    <tr>\n",
              "      <th>0</th>\n",
              "      <td>45120811</td>\n",
              "      <td>Guest House  7 min to Disney, New open</td>\n",
              "      <td>289820207</td>\n",
              "      <td>Koki</td>\n",
              "      <td>NaN</td>\n",
              "      <td>Edogawa Ku</td>\n",
              "      <td>35.65802</td>\n",
              "      <td>139.89506</td>\n",
              "      <td>Entire home/apt</td>\n",
              "      <td>17400</td>\n",
              "      <td>1</td>\n",
              "      <td>23</td>\n",
              "      <td>2022-08-20</td>\n",
              "      <td>0.95</td>\n",
              "      <td>1</td>\n",
              "      <td>258</td>\n",
              "      <td>12</td>\n",
              "      <td>M120025987</td>\n",
              "    </tr>\n",
              "    <tr>\n",
              "      <th>1</th>\n",
              "      <td>40069353</td>\n",
              "      <td>留连之家民宿</td>\n",
              "      <td>39884149</td>\n",
              "      <td>钦雄</td>\n",
              "      <td>NaN</td>\n",
              "      <td>Edogawa Ku</td>\n",
              "      <td>35.71645</td>\n",
              "      <td>139.92855</td>\n",
              "      <td>Entire home/apt</td>\n",
              "      <td>3266</td>\n",
              "      <td>2</td>\n",
              "      <td>14</td>\n",
              "      <td>2022-08-15</td>\n",
              "      <td>0.42</td>\n",
              "      <td>2</td>\n",
              "      <td>41</td>\n",
              "      <td>6</td>\n",
              "      <td>M120020038</td>\n",
              "    </tr>\n",
              "  </tbody>\n",
              "</table>\n",
              "</div>\n",
              "      <button class=\"colab-df-convert\" onclick=\"convertToInteractive('df-9391f9bb-7c72-4bfe-9e40-e20f4c23c24b')\"\n",
              "              title=\"Convert this dataframe to an interactive table.\"\n",
              "              style=\"display:none;\">\n",
              "        \n",
              "  <svg xmlns=\"http://www.w3.org/2000/svg\" height=\"24px\"viewBox=\"0 0 24 24\"\n",
              "       width=\"24px\">\n",
              "    <path d=\"M0 0h24v24H0V0z\" fill=\"none\"/>\n",
              "    <path d=\"M18.56 5.44l.94 2.06.94-2.06 2.06-.94-2.06-.94-.94-2.06-.94 2.06-2.06.94zm-11 1L8.5 8.5l.94-2.06 2.06-.94-2.06-.94L8.5 2.5l-.94 2.06-2.06.94zm10 10l.94 2.06.94-2.06 2.06-.94-2.06-.94-.94-2.06-.94 2.06-2.06.94z\"/><path d=\"M17.41 7.96l-1.37-1.37c-.4-.4-.92-.59-1.43-.59-.52 0-1.04.2-1.43.59L10.3 9.45l-7.72 7.72c-.78.78-.78 2.05 0 2.83L4 21.41c.39.39.9.59 1.41.59.51 0 1.02-.2 1.41-.59l7.78-7.78 2.81-2.81c.8-.78.8-2.07 0-2.86zM5.41 20L4 18.59l7.72-7.72 1.47 1.35L5.41 20z\"/>\n",
              "  </svg>\n",
              "      </button>\n",
              "      \n",
              "  <style>\n",
              "    .colab-df-container {\n",
              "      display:flex;\n",
              "      flex-wrap:wrap;\n",
              "      gap: 12px;\n",
              "    }\n",
              "\n",
              "    .colab-df-convert {\n",
              "      background-color: #E8F0FE;\n",
              "      border: none;\n",
              "      border-radius: 50%;\n",
              "      cursor: pointer;\n",
              "      display: none;\n",
              "      fill: #1967D2;\n",
              "      height: 32px;\n",
              "      padding: 0 0 0 0;\n",
              "      width: 32px;\n",
              "    }\n",
              "\n",
              "    .colab-df-convert:hover {\n",
              "      background-color: #E2EBFA;\n",
              "      box-shadow: 0px 1px 2px rgba(60, 64, 67, 0.3), 0px 1px 3px 1px rgba(60, 64, 67, 0.15);\n",
              "      fill: #174EA6;\n",
              "    }\n",
              "\n",
              "    [theme=dark] .colab-df-convert {\n",
              "      background-color: #3B4455;\n",
              "      fill: #D2E3FC;\n",
              "    }\n",
              "\n",
              "    [theme=dark] .colab-df-convert:hover {\n",
              "      background-color: #434B5C;\n",
              "      box-shadow: 0px 1px 3px 1px rgba(0, 0, 0, 0.15);\n",
              "      filter: drop-shadow(0px 1px 2px rgba(0, 0, 0, 0.3));\n",
              "      fill: #FFFFFF;\n",
              "    }\n",
              "  </style>\n",
              "\n",
              "      <script>\n",
              "        const buttonEl =\n",
              "          document.querySelector('#df-9391f9bb-7c72-4bfe-9e40-e20f4c23c24b button.colab-df-convert');\n",
              "        buttonEl.style.display =\n",
              "          google.colab.kernel.accessAllowed ? 'block' : 'none';\n",
              "\n",
              "        async function convertToInteractive(key) {\n",
              "          const element = document.querySelector('#df-9391f9bb-7c72-4bfe-9e40-e20f4c23c24b');\n",
              "          const dataTable =\n",
              "            await google.colab.kernel.invokeFunction('convertToInteractive',\n",
              "                                                     [key], {});\n",
              "          if (!dataTable) return;\n",
              "\n",
              "          const docLinkHtml = 'Like what you see? Visit the ' +\n",
              "            '<a target=\"_blank\" href=https://colab.research.google.com/notebooks/data_table.ipynb>data table notebook</a>'\n",
              "            + ' to learn more about interactive tables.';\n",
              "          element.innerHTML = '';\n",
              "          dataTable['output_type'] = 'display_data';\n",
              "          await google.colab.output.renderOutput(dataTable, element);\n",
              "          const docLink = document.createElement('div');\n",
              "          docLink.innerHTML = docLinkHtml;\n",
              "          element.appendChild(docLink);\n",
              "        }\n",
              "      </script>\n",
              "    </div>\n",
              "  </div>\n",
              "  "
            ]
          },
          "metadata": {},
          "execution_count": 83
        }
      ]
    },
    {
      "cell_type": "markdown",
      "source": [
        "Com os dados de `neighbourhood_group` inexistentes e de certa forma desprezíveis para nossa análise, esta coluna será excluída para melhor visualização."
      ],
      "metadata": {
        "id": "-cOq5gIYoHKX"
      }
    },
    {
      "cell_type": "code",
      "source": [
        "df.drop(columns=['neighbourhood_group'], inplace=True)\n",
        "df.head(2)"
      ],
      "metadata": {
        "colab": {
          "base_uri": "https://localhost:8080/",
          "height": 298
        },
        "id": "oWSz0mAuKX0Q",
        "outputId": "0b51d7cb-6037-428c-8a4f-4036c090cda1"
      },
      "execution_count": 84,
      "outputs": [
        {
          "output_type": "execute_result",
          "data": {
            "text/plain": [
              "         id                                    name    host_id host_name  \\\n",
              "0  45120811  Guest House  7 min to Disney, New open  289820207      Koki   \n",
              "1  40069353                                  留连之家民宿   39884149        钦雄   \n",
              "\n",
              "  neighbourhood  latitude  longitude        room_type  price  minimum_nights  \\\n",
              "0    Edogawa Ku  35.65802  139.89506  Entire home/apt  17400               1   \n",
              "1    Edogawa Ku  35.71645  139.92855  Entire home/apt   3266               2   \n",
              "\n",
              "   number_of_reviews last_review  reviews_per_month  \\\n",
              "0                 23  2022-08-20               0.95   \n",
              "1                 14  2022-08-15               0.42   \n",
              "\n",
              "   calculated_host_listings_count  availability_365  number_of_reviews_ltm  \\\n",
              "0                               1               258                     12   \n",
              "1                               2                41                      6   \n",
              "\n",
              "      license  \n",
              "0  M120025987  \n",
              "1  M120020038  "
            ],
            "text/html": [
              "\n",
              "  <div id=\"df-ee79655f-f951-4f61-864d-74cd13fdeaf8\">\n",
              "    <div class=\"colab-df-container\">\n",
              "      <div>\n",
              "<style scoped>\n",
              "    .dataframe tbody tr th:only-of-type {\n",
              "        vertical-align: middle;\n",
              "    }\n",
              "\n",
              "    .dataframe tbody tr th {\n",
              "        vertical-align: top;\n",
              "    }\n",
              "\n",
              "    .dataframe thead th {\n",
              "        text-align: right;\n",
              "    }\n",
              "</style>\n",
              "<table border=\"1\" class=\"dataframe\">\n",
              "  <thead>\n",
              "    <tr style=\"text-align: right;\">\n",
              "      <th></th>\n",
              "      <th>id</th>\n",
              "      <th>name</th>\n",
              "      <th>host_id</th>\n",
              "      <th>host_name</th>\n",
              "      <th>neighbourhood</th>\n",
              "      <th>latitude</th>\n",
              "      <th>longitude</th>\n",
              "      <th>room_type</th>\n",
              "      <th>price</th>\n",
              "      <th>minimum_nights</th>\n",
              "      <th>number_of_reviews</th>\n",
              "      <th>last_review</th>\n",
              "      <th>reviews_per_month</th>\n",
              "      <th>calculated_host_listings_count</th>\n",
              "      <th>availability_365</th>\n",
              "      <th>number_of_reviews_ltm</th>\n",
              "      <th>license</th>\n",
              "    </tr>\n",
              "  </thead>\n",
              "  <tbody>\n",
              "    <tr>\n",
              "      <th>0</th>\n",
              "      <td>45120811</td>\n",
              "      <td>Guest House  7 min to Disney, New open</td>\n",
              "      <td>289820207</td>\n",
              "      <td>Koki</td>\n",
              "      <td>Edogawa Ku</td>\n",
              "      <td>35.65802</td>\n",
              "      <td>139.89506</td>\n",
              "      <td>Entire home/apt</td>\n",
              "      <td>17400</td>\n",
              "      <td>1</td>\n",
              "      <td>23</td>\n",
              "      <td>2022-08-20</td>\n",
              "      <td>0.95</td>\n",
              "      <td>1</td>\n",
              "      <td>258</td>\n",
              "      <td>12</td>\n",
              "      <td>M120025987</td>\n",
              "    </tr>\n",
              "    <tr>\n",
              "      <th>1</th>\n",
              "      <td>40069353</td>\n",
              "      <td>留连之家民宿</td>\n",
              "      <td>39884149</td>\n",
              "      <td>钦雄</td>\n",
              "      <td>Edogawa Ku</td>\n",
              "      <td>35.71645</td>\n",
              "      <td>139.92855</td>\n",
              "      <td>Entire home/apt</td>\n",
              "      <td>3266</td>\n",
              "      <td>2</td>\n",
              "      <td>14</td>\n",
              "      <td>2022-08-15</td>\n",
              "      <td>0.42</td>\n",
              "      <td>2</td>\n",
              "      <td>41</td>\n",
              "      <td>6</td>\n",
              "      <td>M120020038</td>\n",
              "    </tr>\n",
              "  </tbody>\n",
              "</table>\n",
              "</div>\n",
              "      <button class=\"colab-df-convert\" onclick=\"convertToInteractive('df-ee79655f-f951-4f61-864d-74cd13fdeaf8')\"\n",
              "              title=\"Convert this dataframe to an interactive table.\"\n",
              "              style=\"display:none;\">\n",
              "        \n",
              "  <svg xmlns=\"http://www.w3.org/2000/svg\" height=\"24px\"viewBox=\"0 0 24 24\"\n",
              "       width=\"24px\">\n",
              "    <path d=\"M0 0h24v24H0V0z\" fill=\"none\"/>\n",
              "    <path d=\"M18.56 5.44l.94 2.06.94-2.06 2.06-.94-2.06-.94-.94-2.06-.94 2.06-2.06.94zm-11 1L8.5 8.5l.94-2.06 2.06-.94-2.06-.94L8.5 2.5l-.94 2.06-2.06.94zm10 10l.94 2.06.94-2.06 2.06-.94-2.06-.94-.94-2.06-.94 2.06-2.06.94z\"/><path d=\"M17.41 7.96l-1.37-1.37c-.4-.4-.92-.59-1.43-.59-.52 0-1.04.2-1.43.59L10.3 9.45l-7.72 7.72c-.78.78-.78 2.05 0 2.83L4 21.41c.39.39.9.59 1.41.59.51 0 1.02-.2 1.41-.59l7.78-7.78 2.81-2.81c.8-.78.8-2.07 0-2.86zM5.41 20L4 18.59l7.72-7.72 1.47 1.35L5.41 20z\"/>\n",
              "  </svg>\n",
              "      </button>\n",
              "      \n",
              "  <style>\n",
              "    .colab-df-container {\n",
              "      display:flex;\n",
              "      flex-wrap:wrap;\n",
              "      gap: 12px;\n",
              "    }\n",
              "\n",
              "    .colab-df-convert {\n",
              "      background-color: #E8F0FE;\n",
              "      border: none;\n",
              "      border-radius: 50%;\n",
              "      cursor: pointer;\n",
              "      display: none;\n",
              "      fill: #1967D2;\n",
              "      height: 32px;\n",
              "      padding: 0 0 0 0;\n",
              "      width: 32px;\n",
              "    }\n",
              "\n",
              "    .colab-df-convert:hover {\n",
              "      background-color: #E2EBFA;\n",
              "      box-shadow: 0px 1px 2px rgba(60, 64, 67, 0.3), 0px 1px 3px 1px rgba(60, 64, 67, 0.15);\n",
              "      fill: #174EA6;\n",
              "    }\n",
              "\n",
              "    [theme=dark] .colab-df-convert {\n",
              "      background-color: #3B4455;\n",
              "      fill: #D2E3FC;\n",
              "    }\n",
              "\n",
              "    [theme=dark] .colab-df-convert:hover {\n",
              "      background-color: #434B5C;\n",
              "      box-shadow: 0px 1px 3px 1px rgba(0, 0, 0, 0.15);\n",
              "      filter: drop-shadow(0px 1px 2px rgba(0, 0, 0, 0.3));\n",
              "      fill: #FFFFFF;\n",
              "    }\n",
              "  </style>\n",
              "\n",
              "      <script>\n",
              "        const buttonEl =\n",
              "          document.querySelector('#df-ee79655f-f951-4f61-864d-74cd13fdeaf8 button.colab-df-convert');\n",
              "        buttonEl.style.display =\n",
              "          google.colab.kernel.accessAllowed ? 'block' : 'none';\n",
              "\n",
              "        async function convertToInteractive(key) {\n",
              "          const element = document.querySelector('#df-ee79655f-f951-4f61-864d-74cd13fdeaf8');\n",
              "          const dataTable =\n",
              "            await google.colab.kernel.invokeFunction('convertToInteractive',\n",
              "                                                     [key], {});\n",
              "          if (!dataTable) return;\n",
              "\n",
              "          const docLinkHtml = 'Like what you see? Visit the ' +\n",
              "            '<a target=\"_blank\" href=https://colab.research.google.com/notebooks/data_table.ipynb>data table notebook</a>'\n",
              "            + ' to learn more about interactive tables.';\n",
              "          element.innerHTML = '';\n",
              "          dataTable['output_type'] = 'display_data';\n",
              "          await google.colab.output.renderOutput(dataTable, element);\n",
              "          const docLink = document.createElement('div');\n",
              "          docLink.innerHTML = docLinkHtml;\n",
              "          element.appendChild(docLink);\n",
              "        }\n",
              "      </script>\n",
              "    </div>\n",
              "  </div>\n",
              "  "
            ]
          },
          "metadata": {},
          "execution_count": 84
        }
      ]
    },
    {
      "cell_type": "markdown",
      "metadata": {
        "id": "6-B_qtEaYEd-"
      },
      "source": [
        "### **Q1. Quantos atributos (variáveis) e quantas entradas o nosso conjunto de dados possui? Quais os tipos das variáveis?**"
      ]
    },
    {
      "cell_type": "code",
      "metadata": {
        "id": "TFRK0tniLV-G",
        "colab": {
          "base_uri": "https://localhost:8080/"
        },
        "outputId": "77f2b90a-2cc9-4e97-8a0a-7590a901f60a"
      },
      "source": [
        "# identificar o volume de dados do DataFrame\n",
        "print(f'Existe um total de {df.shape[0]} entradas.\\n'\n",
        "f'E ainda, um total de {df.shape[1]} variáveis. Lembrando que foi excluido o \"neighbourhood_group\".')\n",
        "\n",
        "\n",
        "# tipos das variáveis\n",
        "print('--'*10)\n",
        "print('O tipo das variáveis:')\n",
        "df.info()"
      ],
      "execution_count": 85,
      "outputs": [
        {
          "output_type": "stream",
          "name": "stdout",
          "text": [
            "Existe um total de 9823 entradas.\n",
            "E ainda, um total de 17 variáveis. Lembrando que foi excluido o \"neighbourhood_group\".\n",
            "--------------------\n",
            "O tipo das variáveis:\n",
            "<class 'pandas.core.frame.DataFrame'>\n",
            "RangeIndex: 9823 entries, 0 to 9822\n",
            "Data columns (total 17 columns):\n",
            " #   Column                          Non-Null Count  Dtype  \n",
            "---  ------                          --------------  -----  \n",
            " 0   id                              9823 non-null   int64  \n",
            " 1   name                            9823 non-null   object \n",
            " 2   host_id                         9823 non-null   int64  \n",
            " 3   host_name                       9823 non-null   object \n",
            " 4   neighbourhood                   9823 non-null   object \n",
            " 5   latitude                        9823 non-null   float64\n",
            " 6   longitude                       9823 non-null   float64\n",
            " 7   room_type                       9823 non-null   object \n",
            " 8   price                           9823 non-null   int64  \n",
            " 9   minimum_nights                  9823 non-null   int64  \n",
            " 10  number_of_reviews               9823 non-null   int64  \n",
            " 11  last_review                     8296 non-null   object \n",
            " 12  reviews_per_month               8296 non-null   float64\n",
            " 13  calculated_host_listings_count  9823 non-null   int64  \n",
            " 14  availability_365                9823 non-null   int64  \n",
            " 15  number_of_reviews_ltm           9823 non-null   int64  \n",
            " 16  license                         9789 non-null   object \n",
            "dtypes: float64(3), int64(8), object(6)\n",
            "memory usage: 1.3+ MB\n"
          ]
        }
      ]
    },
    {
      "cell_type": "markdown",
      "metadata": {
        "id": "yz1urSUGW9iE"
      },
      "source": [
        "### **Q2. Qual a porcentagem de valores ausentes no *dataset*?**"
      ]
    },
    {
      "cell_type": "code",
      "metadata": {
        "id": "plk2FjbCXOqP",
        "colab": {
          "base_uri": "https://localhost:8080/"
        },
        "outputId": "7fdbd8b8-bb4f-4dd7-9d5c-54f6ca8ced80"
      },
      "source": [
        "# ordenar em ordem decrescente as variáveis por seus valores ausentes\n",
        "ausentes_df = df.isnull().sum()\n",
        "ausentespct_df = ausentes_df/df.shape[0]\n",
        "print('A porcentagem dos valores ausentes dentro da nossa tabela é:')\n",
        "ausentespct_df.sort_values(ascending=False)*100\n"
      ],
      "execution_count": 86,
      "outputs": [
        {
          "output_type": "stream",
          "name": "stdout",
          "text": [
            "A porcentagem dos valores ausentes dentro da nossa tabela é:\n"
          ]
        },
        {
          "output_type": "execute_result",
          "data": {
            "text/plain": [
              "reviews_per_month                 15.545149\n",
              "last_review                       15.545149\n",
              "license                            0.346126\n",
              "minimum_nights                     0.000000\n",
              "number_of_reviews_ltm              0.000000\n",
              "availability_365                   0.000000\n",
              "calculated_host_listings_count     0.000000\n",
              "number_of_reviews                  0.000000\n",
              "id                                 0.000000\n",
              "name                               0.000000\n",
              "room_type                          0.000000\n",
              "longitude                          0.000000\n",
              "latitude                           0.000000\n",
              "neighbourhood                      0.000000\n",
              "host_name                          0.000000\n",
              "host_id                            0.000000\n",
              "price                              0.000000\n",
              "dtype: float64"
            ]
          },
          "metadata": {},
          "execution_count": 86
        }
      ]
    },
    {
      "cell_type": "markdown",
      "source": [
        "Logo, podemos perceber que cerca de **15% dos campos** de reviews por mês e última review estão em branco.\n",
        "Não necessariamente uma casa sem review teria algum problema de locação, preço ou desentedimentos com os hosts.\n",
        "\n",
        "A propriedade pode ter sido cadastrada na plataforma recentemente ou o guest esqueceu de realizar sua avaliação na acomodação."
      ],
      "metadata": {
        "id": "WfpVfRj_OjN6"
      }
    },
    {
      "cell_type": "markdown",
      "metadata": {
        "id": "iHXvvHIxaoNc"
      },
      "source": [
        "### **Q3. Qual o tipo de distribuição das variáveis?** "
      ]
    },
    {
      "cell_type": "code",
      "metadata": {
        "id": "q2wWSfeRbmBo",
        "colab": {
          "base_uri": "https://localhost:8080/",
          "height": 607
        },
        "outputId": "5f9b5fd9-9066-494e-fb4a-7c4a6e810231"
      },
      "source": [
        "from pandas.plotting import hist_series\n",
        "# plotar o histograma das variáveis numéricas\n",
        "df.hist(bins=15, figsize=(15,10));"
      ],
      "execution_count": 87,
      "outputs": [
        {
          "output_type": "display_data",
          "data": {
            "text/plain": [
              "<Figure size 1080x720 with 12 Axes>"
            ],
            "image/png": "[encoded data removed]"
          },
          "metadata": {
            "needs_background": "light"
          }
        }
      ]
    },
    {
      "cell_type": "markdown",
      "source": [
        "Visualmente pelos histogramas, podemos perceber que existem *outliers* presentes nas colunas: \n",
        " `price`, `minimum_nights`, `number_of_reviews`, `reviews_per_month` e `number_of_reviews_ltm`.\n",
        "\n",
        "Dessa forma, vamos utilizar o método `describe` para analisar mais profundamente cada variável."
      ],
      "metadata": {
        "id": "_7-mFSfhRmeA"
      }
    },
    {
      "cell_type": "code",
      "source": [
        "df[['price', 'minimum_nights','number_of_reviews', 'reviews_per_month', 'number_of_reviews_ltm']].describe()"
      ],
      "metadata": {
        "colab": {
          "base_uri": "https://localhost:8080/",
          "height": 300
        },
        "id": "CLSvJ-5OSUQN",
        "outputId": "76ee3098-3d40-4d78-9d3f-b0d72f9dbd90"
      },
      "execution_count": 88,
      "outputs": [
        {
          "output_type": "execute_result",
          "data": {
            "text/plain": [
              "              price  minimum_nights  number_of_reviews  reviews_per_month  \\\n",
              "count  9.823000e+03     9823.000000        9823.000000        8296.000000   \n",
              "mean   1.498582e+04        2.540466          30.385320           1.025065   \n",
              "std    9.755941e+04        8.975734          49.984574           1.318514   \n",
              "min    0.000000e+00        1.000000           0.000000           0.010000   \n",
              "25%    5.200000e+03        1.000000           2.000000           0.300000   \n",
              "50%    8.000000e+03        1.000000          11.000000           0.690000   \n",
              "75%    1.330100e+04        2.000000          38.000000           1.290000   \n",
              "max    8.928571e+06      365.000000        1150.000000          28.990000   \n",
              "\n",
              "       number_of_reviews_ltm  \n",
              "count            9823.000000  \n",
              "mean                6.621399  \n",
              "std                14.648161  \n",
              "min                 0.000000  \n",
              "25%                 0.000000  \n",
              "50%                 2.000000  \n",
              "75%                 7.000000  \n",
              "max               392.000000  "
            ],
            "text/html": [
              "\n",
              "  <div id=\"df-f912f233-2004-4f0c-9442-d3c50ab78033\">\n",
              "    <div class=\"colab-df-container\">\n",
              "      <div>\n",
              "<style scoped>\n",
              "    .dataframe tbody tr th:only-of-type {\n",
              "        vertical-align: middle;\n",
              "    }\n",
              "\n",
              "    .dataframe tbody tr th {\n",
              "        vertical-align: top;\n",
              "    }\n",
              "\n",
              "    .dataframe thead th {\n",
              "        text-align: right;\n",
              "    }\n",
              "</style>\n",
              "<table border=\"1\" class=\"dataframe\">\n",
              "  <thead>\n",
              "    <tr style=\"text-align: right;\">\n",
              "      <th></th>\n",
              "      <th>price</th>\n",
              "      <th>minimum_nights</th>\n",
              "      <th>number_of_reviews</th>\n",
              "      <th>reviews_per_month</th>\n",
              "      <th>number_of_reviews_ltm</th>\n",
              "    </tr>\n",
              "  </thead>\n",
              "  <tbody>\n",
              "    <tr>\n",
              "      <th>count</th>\n",
              "      <td>9.823000e+03</td>\n",
              "      <td>9823.000000</td>\n",
              "      <td>9823.000000</td>\n",
              "      <td>8296.000000</td>\n",
              "      <td>9823.000000</td>\n",
              "    </tr>\n",
              "    <tr>\n",
              "      <th>mean</th>\n",
              "      <td>1.498582e+04</td>\n",
              "      <td>2.540466</td>\n",
              "      <td>30.385320</td>\n",
              "      <td>1.025065</td>\n",
              "      <td>6.621399</td>\n",
              "    </tr>\n",
              "    <tr>\n",
              "      <th>std</th>\n",
              "      <td>9.755941e+04</td>\n",
              "      <td>8.975734</td>\n",
              "      <td>49.984574</td>\n",
              "      <td>1.318514</td>\n",
              "      <td>14.648161</td>\n",
              "    </tr>\n",
              "    <tr>\n",
              "      <th>min</th>\n",
              "      <td>0.000000e+00</td>\n",
              "      <td>1.000000</td>\n",
              "      <td>0.000000</td>\n",
              "      <td>0.010000</td>\n",
              "      <td>0.000000</td>\n",
              "    </tr>\n",
              "    <tr>\n",
              "      <th>25%</th>\n",
              "      <td>5.200000e+03</td>\n",
              "      <td>1.000000</td>\n",
              "      <td>2.000000</td>\n",
              "      <td>0.300000</td>\n",
              "      <td>0.000000</td>\n",
              "    </tr>\n",
              "    <tr>\n",
              "      <th>50%</th>\n",
              "      <td>8.000000e+03</td>\n",
              "      <td>1.000000</td>\n",
              "      <td>11.000000</td>\n",
              "      <td>0.690000</td>\n",
              "      <td>2.000000</td>\n",
              "    </tr>\n",
              "    <tr>\n",
              "      <th>75%</th>\n",
              "      <td>1.330100e+04</td>\n",
              "      <td>2.000000</td>\n",
              "      <td>38.000000</td>\n",
              "      <td>1.290000</td>\n",
              "      <td>7.000000</td>\n",
              "    </tr>\n",
              "    <tr>\n",
              "      <th>max</th>\n",
              "      <td>8.928571e+06</td>\n",
              "      <td>365.000000</td>\n",
              "      <td>1150.000000</td>\n",
              "      <td>28.990000</td>\n",
              "      <td>392.000000</td>\n",
              "    </tr>\n",
              "  </tbody>\n",
              "</table>\n",
              "</div>\n",
              "      <button class=\"colab-df-convert\" onclick=\"convertToInteractive('df-f912f233-2004-4f0c-9442-d3c50ab78033')\"\n",
              "              title=\"Convert this dataframe to an interactive table.\"\n",
              "              style=\"display:none;\">\n",
              "        \n",
              "  <svg xmlns=\"http://www.w3.org/2000/svg\" height=\"24px\"viewBox=\"0 0 24 24\"\n",
              "       width=\"24px\">\n",
              "    <path d=\"M0 0h24v24H0V0z\" fill=\"none\"/>\n",
              "    <path d=\"M18.56 5.44l.94 2.06.94-2.06 2.06-.94-2.06-.94-.94-2.06-.94 2.06-2.06.94zm-11 1L8.5 8.5l.94-2.06 2.06-.94-2.06-.94L8.5 2.5l-.94 2.06-2.06.94zm10 10l.94 2.06.94-2.06 2.06-.94-2.06-.94-.94-2.06-.94 2.06-2.06.94z\"/><path d=\"M17.41 7.96l-1.37-1.37c-.4-.4-.92-.59-1.43-.59-.52 0-1.04.2-1.43.59L10.3 9.45l-7.72 7.72c-.78.78-.78 2.05 0 2.83L4 21.41c.39.39.9.59 1.41.59.51 0 1.02-.2 1.41-.59l7.78-7.78 2.81-2.81c.8-.78.8-2.07 0-2.86zM5.41 20L4 18.59l7.72-7.72 1.47 1.35L5.41 20z\"/>\n",
              "  </svg>\n",
              "      </button>\n",
              "      \n",
              "  <style>\n",
              "    .colab-df-container {\n",
              "      display:flex;\n",
              "      flex-wrap:wrap;\n",
              "      gap: 12px;\n",
              "    }\n",
              "\n",
              "    .colab-df-convert {\n",
              "      background-color: #E8F0FE;\n",
              "      border: none;\n",
              "      border-radius: 50%;\n",
              "      cursor: pointer;\n",
              "      display: none;\n",
              "      fill: #1967D2;\n",
              "      height: 32px;\n",
              "      padding: 0 0 0 0;\n",
              "      width: 32px;\n",
              "    }\n",
              "\n",
              "    .colab-df-convert:hover {\n",
              "      background-color: #E2EBFA;\n",
              "      box-shadow: 0px 1px 2px rgba(60, 64, 67, 0.3), 0px 1px 3px 1px rgba(60, 64, 67, 0.15);\n",
              "      fill: #174EA6;\n",
              "    }\n",
              "\n",
              "    [theme=dark] .colab-df-convert {\n",
              "      background-color: #3B4455;\n",
              "      fill: #D2E3FC;\n",
              "    }\n",
              "\n",
              "    [theme=dark] .colab-df-convert:hover {\n",
              "      background-color: #434B5C;\n",
              "      box-shadow: 0px 1px 3px 1px rgba(0, 0, 0, 0.15);\n",
              "      filter: drop-shadow(0px 1px 2px rgba(0, 0, 0, 0.3));\n",
              "      fill: #FFFFFF;\n",
              "    }\n",
              "  </style>\n",
              "\n",
              "      <script>\n",
              "        const buttonEl =\n",
              "          document.querySelector('#df-f912f233-2004-4f0c-9442-d3c50ab78033 button.colab-df-convert');\n",
              "        buttonEl.style.display =\n",
              "          google.colab.kernel.accessAllowed ? 'block' : 'none';\n",
              "\n",
              "        async function convertToInteractive(key) {\n",
              "          const element = document.querySelector('#df-f912f233-2004-4f0c-9442-d3c50ab78033');\n",
              "          const dataTable =\n",
              "            await google.colab.kernel.invokeFunction('convertToInteractive',\n",
              "                                                     [key], {});\n",
              "          if (!dataTable) return;\n",
              "\n",
              "          const docLinkHtml = 'Like what you see? Visit the ' +\n",
              "            '<a target=\"_blank\" href=https://colab.research.google.com/notebooks/data_table.ipynb>data table notebook</a>'\n",
              "            + ' to learn more about interactive tables.';\n",
              "          element.innerHTML = '';\n",
              "          dataTable['output_type'] = 'display_data';\n",
              "          await google.colab.output.renderOutput(dataTable, element);\n",
              "          const docLink = document.createElement('div');\n",
              "          docLink.innerHTML = docLinkHtml;\n",
              "          element.appendChild(docLink);\n",
              "        }\n",
              "      </script>\n",
              "    </div>\n",
              "  </div>\n",
              "  "
            ]
          },
          "metadata": {},
          "execution_count": 88
        }
      ]
    },
    {
      "cell_type": "markdown",
      "source": [
        "Verificando qual seria a mediana de cada variável: "
      ],
      "metadata": {
        "id": "KCDZmciwS_nN"
      }
    },
    {
      "cell_type": "code",
      "source": [
        "df[['price', 'minimum_nights','number_of_reviews', 'reviews_per_month', 'number_of_reviews_ltm']].median()"
      ],
      "metadata": {
        "colab": {
          "base_uri": "https://localhost:8080/"
        },
        "id": "zizu_SQpTD7t",
        "outputId": "8b8ca08a-5620-46e1-a4b9-6833bb8e6a10"
      },
      "execution_count": 89,
      "outputs": [
        {
          "output_type": "execute_result",
          "data": {
            "text/plain": [
              "price                    8000.00\n",
              "minimum_nights              1.00\n",
              "number_of_reviews          11.00\n",
              "reviews_per_month           0.69\n",
              "number_of_reviews_ltm       2.00\n",
              "dtype: float64"
            ]
          },
          "metadata": {},
          "execution_count": 89
        }
      ]
    },
    {
      "cell_type": "markdown",
      "source": [
        "Analisando o `describe` e a `median` versus o histograma, existem *outliers* presentes em todas as variáveis acima analisadas. Os *outliers* têm como justificativas:\n",
        "\n",
        "* `price`: o `max` (¥8.928,571,00/R$353.255,99 **por noite**) refere-se à propriedades que são extremamente luxuosas, podendo ser aluguel de mansões ou locais similares. Já o `min` (¥0) é considerado erro de lançamento, já que não é coerente dentro da plataforma termos acomodações gratuitas. \n",
        "* `minimum_nights`: o `max` dessa variável é de 365. São aquelas propriedades que são utilizadas como aluguel anual dentro da plataforma.\n",
        "\n",
        "* `number_of_reviews`: o `max` refere-se à um [apartamento](https://www.airbnb.com.sg/rooms/27750681?source_impression_id=p3_1673114175_3gL%2F%2FdWQLbWzw2mm) que tem um número expressivo de reviews. Um apartamento que está cadastrado a bastante tempo na plataforma e que já foi alugado diversas vezes.\n",
        "* `reviews_per_month`: por mais que tenha *outliers* pouco expressivos, a variável é inversamente proporcional à `availability_365`. É natural que quanto menos disponibilidade de uma propriedade, maior a quantidade de avaliações. Assim, o inverso também é válido.\n",
        "* `number_of_reviews_ltm`: sua análise se faz de maneira análoga ao `reviews_per_month` entendendo a relação desta variável com a `availability_365`. Porém, devemos nos preocupar com a quantidade de reviews duplicados ou a taxa de resposta do host (caso a resposta também conte como review dentro dos dados). Se a resposta do host for considerado um review, o valor estaria duplicado para cada resposta de um review. Como os dados fornecidos pelo Airbnb não diferencia se o review é do host ou do guest, fica inviável de analisarmos profundamente essa variável."
      ],
      "metadata": {
        "id": "zbFTLXDLUGus"
      }
    },
    {
      "cell_type": "markdown",
      "metadata": {
        "id": "7x4aw1j5wNmn"
      },
      "source": [
        "### **Q4. Qual a média dos preços de aluguel?**\n"
      ]
    },
    {
      "cell_type": "code",
      "metadata": {
        "id": "ff-8gUahLk-C"
      },
      "source": [
        "# ver a média da coluna `price``\n",
        "media = df[['price']].mean()"
      ],
      "execution_count": 90,
      "outputs": []
    },
    {
      "cell_type": "markdown",
      "source": [
        "Por mais que existam acomodações com valores altíssimos (como no caso que vimos acima), a média se apresenta com ¥14.985,00 ou R$593,00.\n",
        "A mediana é de ¥8.000. \n",
        "A média foi claramente puxada para cima por causa do outlier de máximo. Já analisando pela mediana, o valor fica quase metade da média, nos trazendo uma informação viável a ser analisada."
      ],
      "metadata": {
        "id": "THTzbwvtwZrc"
      }
    },
    {
      "cell_type": "markdown",
      "source": [
        "Com a presença desses outliers, ficamos com uma visualização poluída sobre nossos dados. Vamos analisar os *boxplots* dessas variáveis:"
      ],
      "metadata": {
        "id": "JP7oSbiz2fMu"
      }
    },
    {
      "cell_type": "code",
      "source": [
        "# boxplot do price\n",
        "df.price.plot(kind='box', vert=False,figsize=(15,3));"
      ],
      "metadata": {
        "colab": {
          "base_uri": "https://localhost:8080/",
          "height": 224
        },
        "id": "Ypbvc5IO2-Qd",
        "outputId": "0750d6a9-4524-426d-b1d6-f68a06b2884e"
      },
      "execution_count": 91,
      "outputs": [
        {
          "output_type": "display_data",
          "data": {
            "text/plain": [
              "<Figure size 1080x216 with 1 Axes>"
            ],
            "image/png": "[encoded data removed]"
          },
          "metadata": {
            "needs_background": "light"
          }
        }
      ]
    },
    {
      "cell_type": "code",
      "source": [
        "# boxplot do minimum_nights\n",
        "df.minimum_nights.plot(kind='box', vert=False,figsize=(15,3));"
      ],
      "metadata": {
        "colab": {
          "base_uri": "https://localhost:8080/",
          "height": 211
        },
        "id": "am71VNQy35l2",
        "outputId": "6800bfcc-2398-45bf-d550-bc73b78e3737"
      },
      "execution_count": 92,
      "outputs": [
        {
          "output_type": "display_data",
          "data": {
            "text/plain": [
              "<Figure size 1080x216 with 1 Axes>"
            ],
            "image/png": "[encoded data removed]"
          },
          "metadata": {
            "needs_background": "light"
          }
        }
      ]
    },
    {
      "cell_type": "code",
      "source": [
        "# vendo a porcentagem de quantas acomodações existem acima de 50 minimum nights\n",
        "len(df[df.minimum_nights > 50])/df.shape[0]*100\n"
      ],
      "metadata": {
        "colab": {
          "base_uri": "https://localhost:8080/"
        },
        "id": "IvxvVLCn-3o7",
        "outputId": "578dd98c-d32d-4f3e-a148-9034f2479f20"
      },
      "execution_count": 93,
      "outputs": [
        {
          "output_type": "execute_result",
          "data": {
            "text/plain": [
              "0.24432454443652651"
            ]
          },
          "metadata": {},
          "execution_count": 93
        }
      ]
    },
    {
      "cell_type": "code",
      "source": [
        "# vendo a porcentagem de quantas acomodações cobram mais que 500.000 ienes\n",
        "len(df[df.price > 90_000])/df.shape[0]*100"
      ],
      "metadata": {
        "colab": {
          "base_uri": "https://localhost:8080/"
        },
        "id": "z5Zt8j30AkEB",
        "outputId": "89b11c20-dc2b-4789-8f24-3a7c6edc50fe"
      },
      "execution_count": 94,
      "outputs": [
        {
          "output_type": "execute_result",
          "data": {
            "text/plain": [
              "1.7509925684617733"
            ]
          },
          "metadata": {},
          "execution_count": 94
        }
      ]
    },
    {
      "cell_type": "markdown",
      "source": [
        "Após analisados os boxplots dessas variáveis, vamos iniciar a limpeza.\n",
        "\n",
        "Apenas de maneira empírica, o outlier do `price` é o max dele mesmo. Então, vamos filtrar para o mais próximo da realidade, que é aproximadamente 90.000 ienes (ou aproximadamente R$3560,00). Um valor que um grupo de pessoas de classe alta conseguiria dividir entre si.\n",
        "Além disso, vamos excluir os valores iguais a zero. \n",
        "\n",
        "Para o `minimum_nights`, temos que existem apenas 24 acomodações com mais de 50 noites, perfazendo um total ínfimo de 0.2% frente o total."
      ],
      "metadata": {
        "id": "1T1s9KJH4Xus"
      }
    },
    {
      "cell_type": "code",
      "source": [
        "# copiando a função\n",
        "df_clean = df.copy()\n",
        "# fazendo a limpeza\n",
        "df_clean.drop(df_clean[df_clean.minimum_nights >= 50].index, axis=0, inplace=True)\n",
        "df_clean.drop(df_clean[df_clean.price > 90_000].index, axis=0, inplace=True)\n",
        "df_clean.drop(df_clean[df_clean.price == 0].index, axis=0, inplace=True)\n",
        "# plot do preço\n",
        "df_clean.price.plot(kind='box', vert=False,figsize=(15,3));"
      ],
      "metadata": {
        "colab": {
          "base_uri": "https://localhost:8080/",
          "height": 211
        },
        "id": "-WWbVcam5Mt2",
        "outputId": "688ffea8-c35d-43c7-a301-3347972869a4"
      },
      "execution_count": 95,
      "outputs": [
        {
          "output_type": "display_data",
          "data": {
            "text/plain": [
              "<Figure size 1080x216 with 1 Axes>"
            ],
            "image/png": "[encoded data removed]"
          },
          "metadata": {
            "needs_background": "light"
          }
        }
      ]
    },
    {
      "cell_type": "code",
      "source": [
        "# plot do minimum nights\n",
        "df_clean.minimum_nights.plot(kind='box', vert=False,figsize=(15,3));"
      ],
      "metadata": {
        "colab": {
          "base_uri": "https://localhost:8080/",
          "height": 211
        },
        "id": "v0bqQLUS-m2U",
        "outputId": "75540ac8-c113-40ba-9a20-a5baeac4bc50"
      },
      "execution_count": 96,
      "outputs": [
        {
          "output_type": "display_data",
          "data": {
            "text/plain": [
              "<Figure size 1080x216 with 1 Axes>"
            ],
            "image/png": "[encoded data removed]"
          },
          "metadata": {
            "needs_background": "light"
          }
        }
      ]
    },
    {
      "cell_type": "markdown",
      "metadata": {
        "id": "IXn2oIo5qx-w"
      },
      "source": [
        "### **Q4. Qual a correlação existente entre as variáveis**"
      ]
    },
    {
      "cell_type": "markdown",
      "source": [
        "Verificando as [correlações](https://www.questionpro.com/blog/pt-br/correlacao-de-pearson/#:~:text=Se%20o%20coeficiente%20%C3%A9%20igual,as%20vari%C3%A1veis%20est%C3%A3o%20diretamente%20correlacionadas.) entre as variáveis,  temos que:"
      ],
      "metadata": {
        "id": "V1b3LxS8zMUL"
      }
    },
    {
      "cell_type": "code",
      "metadata": {
        "id": "x2ayzBajqxyd",
        "colab": {
          "base_uri": "https://localhost:8080/",
          "height": 206
        },
        "outputId": "ce58a595-c91a-45a8-e9e3-91d1df5d9fa0"
      },
      "source": [
        "# criar uma matriz de correlação\n",
        "corr = df_clean[['price', 'minimum_nights','number_of_reviews', 'reviews_per_month', 'number_of_reviews_ltm']].corr()\n",
        "# mostrar a matriz de correlação\n",
        "corr"
      ],
      "execution_count": 101,
      "outputs": [
        {
          "output_type": "execute_result",
          "data": {
            "text/plain": [
              "                          price  minimum_nights  number_of_reviews  \\\n",
              "price                  1.000000       -0.027137           0.008319   \n",
              "minimum_nights        -0.027137        1.000000          -0.056899   \n",
              "number_of_reviews      0.008319       -0.056899           1.000000   \n",
              "reviews_per_month      0.024769       -0.098842           0.689227   \n",
              "number_of_reviews_ltm  0.004693       -0.083553           0.542041   \n",
              "\n",
              "                       reviews_per_month  number_of_reviews_ltm  \n",
              "price                           0.024769               0.004693  \n",
              "minimum_nights                 -0.098842              -0.083553  \n",
              "number_of_reviews               0.689227               0.542041  \n",
              "reviews_per_month               1.000000               0.835337  \n",
              "number_of_reviews_ltm           0.835337               1.000000  "
            ],
            "text/html": [
              "\n",
              "  <div id=\"df-07d797fa-5485-4fea-8459-13301bedf065\">\n",
              "    <div class=\"colab-df-container\">\n",
              "      <div>\n",
              "<style scoped>\n",
              "    .dataframe tbody tr th:only-of-type {\n",
              "        vertical-align: middle;\n",
              "    }\n",
              "\n",
              "    .dataframe tbody tr th {\n",
              "        vertical-align: top;\n",
              "    }\n",
              "\n",
              "    .dataframe thead th {\n",
              "        text-align: right;\n",
              "    }\n",
              "</style>\n",
              "<table border=\"1\" class=\"dataframe\">\n",
              "  <thead>\n",
              "    <tr style=\"text-align: right;\">\n",
              "      <th></th>\n",
              "      <th>price</th>\n",
              "      <th>minimum_nights</th>\n",
              "      <th>number_of_reviews</th>\n",
              "      <th>reviews_per_month</th>\n",
              "      <th>number_of_reviews_ltm</th>\n",
              "    </tr>\n",
              "  </thead>\n",
              "  <tbody>\n",
              "    <tr>\n",
              "      <th>price</th>\n",
              "      <td>1.000000</td>\n",
              "      <td>-0.027137</td>\n",
              "      <td>0.008319</td>\n",
              "      <td>0.024769</td>\n",
              "      <td>0.004693</td>\n",
              "    </tr>\n",
              "    <tr>\n",
              "      <th>minimum_nights</th>\n",
              "      <td>-0.027137</td>\n",
              "      <td>1.000000</td>\n",
              "      <td>-0.056899</td>\n",
              "      <td>-0.098842</td>\n",
              "      <td>-0.083553</td>\n",
              "    </tr>\n",
              "    <tr>\n",
              "      <th>number_of_reviews</th>\n",
              "      <td>0.008319</td>\n",
              "      <td>-0.056899</td>\n",
              "      <td>1.000000</td>\n",
              "      <td>0.689227</td>\n",
              "      <td>0.542041</td>\n",
              "    </tr>\n",
              "    <tr>\n",
              "      <th>reviews_per_month</th>\n",
              "      <td>0.024769</td>\n",
              "      <td>-0.098842</td>\n",
              "      <td>0.689227</td>\n",
              "      <td>1.000000</td>\n",
              "      <td>0.835337</td>\n",
              "    </tr>\n",
              "    <tr>\n",
              "      <th>number_of_reviews_ltm</th>\n",
              "      <td>0.004693</td>\n",
              "      <td>-0.083553</td>\n",
              "      <td>0.542041</td>\n",
              "      <td>0.835337</td>\n",
              "      <td>1.000000</td>\n",
              "    </tr>\n",
              "  </tbody>\n",
              "</table>\n",
              "</div>\n",
              "      <button class=\"colab-df-convert\" onclick=\"convertToInteractive('df-07d797fa-5485-4fea-8459-13301bedf065')\"\n",
              "              title=\"Convert this dataframe to an interactive table.\"\n",
              "              style=\"display:none;\">\n",
              "        \n",
              "  <svg xmlns=\"http://www.w3.org/2000/svg\" height=\"24px\"viewBox=\"0 0 24 24\"\n",
              "       width=\"24px\">\n",
              "    <path d=\"M0 0h24v24H0V0z\" fill=\"none\"/>\n",
              "    <path d=\"M18.56 5.44l.94 2.06.94-2.06 2.06-.94-2.06-.94-.94-2.06-.94 2.06-2.06.94zm-11 1L8.5 8.5l.94-2.06 2.06-.94-2.06-.94L8.5 2.5l-.94 2.06-2.06.94zm10 10l.94 2.06.94-2.06 2.06-.94-2.06-.94-.94-2.06-.94 2.06-2.06.94z\"/><path d=\"M17.41 7.96l-1.37-1.37c-.4-.4-.92-.59-1.43-.59-.52 0-1.04.2-1.43.59L10.3 9.45l-7.72 7.72c-.78.78-.78 2.05 0 2.83L4 21.41c.39.39.9.59 1.41.59.51 0 1.02-.2 1.41-.59l7.78-7.78 2.81-2.81c.8-.78.8-2.07 0-2.86zM5.41 20L4 18.59l7.72-7.72 1.47 1.35L5.41 20z\"/>\n",
              "  </svg>\n",
              "      </button>\n",
              "      \n",
              "  <style>\n",
              "    .colab-df-container {\n",
              "      display:flex;\n",
              "      flex-wrap:wrap;\n",
              "      gap: 12px;\n",
              "    }\n",
              "\n",
              "    .colab-df-convert {\n",
              "      background-color: #E8F0FE;\n",
              "      border: none;\n",
              "      border-radius: 50%;\n",
              "      cursor: pointer;\n",
              "      display: none;\n",
              "      fill: #1967D2;\n",
              "      height: 32px;\n",
              "      padding: 0 0 0 0;\n",
              "      width: 32px;\n",
              "    }\n",
              "\n",
              "    .colab-df-convert:hover {\n",
              "      background-color: #E2EBFA;\n",
              "      box-shadow: 0px 1px 2px rgba(60, 64, 67, 0.3), 0px 1px 3px 1px rgba(60, 64, 67, 0.15);\n",
              "      fill: #174EA6;\n",
              "    }\n",
              "\n",
              "    [theme=dark] .colab-df-convert {\n",
              "      background-color: #3B4455;\n",
              "      fill: #D2E3FC;\n",
              "    }\n",
              "\n",
              "    [theme=dark] .colab-df-convert:hover {\n",
              "      background-color: #434B5C;\n",
              "      box-shadow: 0px 1px 3px 1px rgba(0, 0, 0, 0.15);\n",
              "      filter: drop-shadow(0px 1px 2px rgba(0, 0, 0, 0.3));\n",
              "      fill: #FFFFFF;\n",
              "    }\n",
              "  </style>\n",
              "\n",
              "      <script>\n",
              "        const buttonEl =\n",
              "          document.querySelector('#df-07d797fa-5485-4fea-8459-13301bedf065 button.colab-df-convert');\n",
              "        buttonEl.style.display =\n",
              "          google.colab.kernel.accessAllowed ? 'block' : 'none';\n",
              "\n",
              "        async function convertToInteractive(key) {\n",
              "          const element = document.querySelector('#df-07d797fa-5485-4fea-8459-13301bedf065');\n",
              "          const dataTable =\n",
              "            await google.colab.kernel.invokeFunction('convertToInteractive',\n",
              "                                                     [key], {});\n",
              "          if (!dataTable) return;\n",
              "\n",
              "          const docLinkHtml = 'Like what you see? Visit the ' +\n",
              "            '<a target=\"_blank\" href=https://colab.research.google.com/notebooks/data_table.ipynb>data table notebook</a>'\n",
              "            + ' to learn more about interactive tables.';\n",
              "          element.innerHTML = '';\n",
              "          dataTable['output_type'] = 'display_data';\n",
              "          await google.colab.output.renderOutput(dataTable, element);\n",
              "          const docLink = document.createElement('div');\n",
              "          docLink.innerHTML = docLinkHtml;\n",
              "          element.appendChild(docLink);\n",
              "        }\n",
              "      </script>\n",
              "    </div>\n",
              "  </div>\n",
              "  "
            ]
          },
          "metadata": {},
          "execution_count": 101
        }
      ]
    },
    {
      "cell_type": "code",
      "metadata": {
        "id": "91UujDr6ueqE",
        "colab": {
          "base_uri": "https://localhost:8080/",
          "height": 377
        },
        "outputId": "7d951244-bb28-492d-e6c8-d4322d211dbb"
      },
      "source": [
        "# plotar um heatmap a partir das correlações\n",
        "sns.heatmap(corr,cmap='RdBu',fmt='.2f', square=True, linecolor='white', annot=True);"
      ],
      "execution_count": 105,
      "outputs": [
        {
          "output_type": "display_data",
          "data": {
            "text/plain": [
              "<Figure size 432x288 with 2 Axes>"
            ],
            "image/png": "[encoded data removed]"
          },
          "metadata": {
            "needs_background": "light"
          }
        }
      ]
    },
    {
      "cell_type": "markdown",
      "source": [
        "Vemos que as maiores correlações entre as variáveis são:\n",
        "* `number_of_reviews` x `reviews_per_month`: é notável que quanto maior a quantidade de reviews, maior vai ser a quantidade de reviews por mês.\n",
        "\n",
        "Essa análise também é conferida ao `reviews_per_month` x `number_of_reviews_ltm`.\n",
        "\n",
        "Agora, usando o `price` como base:\n",
        "* `minimum_nights` - quanto maior é o preço, ligeiramente menor é a quantidade de noites mínimas. Claramente que ao aumentar a quantidade de noites em uma acomodação cara, menor seria a demanda de locação.\n",
        "* `number_of_reviews` - quanto maior o preço, ligeiramente maior será o número de review. Historicamente, as acomodações mais caras oferecem maior conforto, arredores e facilidades. Logo, maior chance do guest recomendar aos outros usuários via review.\n",
        "* `reviews_per_month` - de maneira análoga à analise acima, infere-se o mesmo resultado.\n",
        "*\t`number_of_reviews_ltm` - faltam dados para analisar essa variável. Pode-se inferir que as acomodações mais caras são mais novas, o que faltaria dados para os \"últimos doze meses\".\n"
      ],
      "metadata": {
        "id": "M3XAeNpPVP5d"
      }
    },
    {
      "cell_type": "markdown",
      "metadata": {
        "id": "7b6RMWpuHKN-"
      },
      "source": [
        "### **Q5. Qual o tipo de imóvel mais alugado no Airbnb?**"
      ]
    },
    {
      "cell_type": "markdown",
      "source": [
        "Vamos analisar agora qual é o tipo de imóvel mais alugado no Airbnb. "
      ],
      "metadata": {
        "id": "WlDwcVvJXuYz"
      }
    },
    {
      "cell_type": "code",
      "metadata": {
        "id": "ueLPNWvPHgfB",
        "colab": {
          "base_uri": "https://localhost:8080/"
        },
        "outputId": "c5092ee5-901c-4d72-bbf4-8788664b8537"
      },
      "source": [
        "# mostrar a quantidade de cada tipo de imóvel disponível\n",
        "df_clean.room_type.value_counts()"
      ],
      "execution_count": 129,
      "outputs": [
        {
          "output_type": "execute_result",
          "data": {
            "text/plain": [
              "Entire home/apt    6661\n",
              "Private room       2401\n",
              "Hotel room          306\n",
              "Shared room         240\n",
              "Name: room_type, dtype: int64"
            ]
          },
          "metadata": {},
          "execution_count": 129
        }
      ]
    },
    {
      "cell_type": "code",
      "metadata": {
        "id": "EvwoO-XAHhIm",
        "colab": {
          "base_uri": "https://localhost:8080/"
        },
        "outputId": "262c20ad-0b68-4d03-960c-6e6049e7499c"
      },
      "source": [
        "# mostrar a porcentagem de cada tipo de imóvel disponível\n",
        "\n",
        "df_clean.room_type.value_counts()/df_clean.room_type.value_counts().sum()*100"
      ],
      "execution_count": 132,
      "outputs": [
        {
          "output_type": "execute_result",
          "data": {
            "text/plain": [
              "Entire home/apt    69.327644\n",
              "Private room       24.989592\n",
              "Hotel room          3.184846\n",
              "Shared room         2.497918\n",
              "Name: room_type, dtype: float64"
            ]
          },
          "metadata": {},
          "execution_count": 132
        }
      ]
    },
    {
      "cell_type": "markdown",
      "source": [
        "Casas ou apartamentos inteiros são 69,32% dos aluguéis realizados."
      ],
      "metadata": {
        "id": "IA-3kyZcbO7C"
      }
    },
    {
      "cell_type": "markdown",
      "metadata": {
        "id": "MFa5NbnLJMcd"
      },
      "source": [
        "### **Q6. Qual a localidade mais cara do dataset?**\n",
        "\n"
      ]
    },
    {
      "cell_type": "markdown",
      "source": [
        "Primeiro vamos ver a quantidade de airbnb's por bairro, excluindo assim, falsas inferições. Note que o último resultado tem o valor igual à 1."
      ],
      "metadata": {
        "id": "eP1NRpyEeath"
      }
    },
    {
      "cell_type": "code",
      "metadata": {
        "id": "MD_xa143JZpi",
        "colab": {
          "base_uri": "https://localhost:8080/"
        },
        "outputId": "88adf9d9-b179-47ce-9c35-6b5676bfb9b0"
      },
      "source": [
        "# verificando quantos airbnbs existem em cada bairro\n",
        "qtde_bairros = df_clean.neighbourhood.value_counts()\n",
        "qtde_bairros"
      ],
      "execution_count": 150,
      "outputs": [
        {
          "output_type": "execute_result",
          "data": {
            "text/plain": [
              "Shinjuku Ku            1902\n",
              "Taito Ku               1411\n",
              "Sumida Ku              1005\n",
              "Toshima Ku              730\n",
              "Shibuya Ku              556\n",
              "Minato Ku               372\n",
              "Ota Ku                  344\n",
              "Chuo Ku                 315\n",
              "Setagaya Ku             296\n",
              "Nakano Ku               260\n",
              "Katsushika Ku           257\n",
              "Edogawa Ku              248\n",
              "Kita Ku                 243\n",
              "Suginami Ku             204\n",
              "Chiyoda Ku              203\n",
              "Arakawa Ku              182\n",
              "Koto Ku                 173\n",
              "Shinagawa Ku            168\n",
              "Bunkyo Ku               151\n",
              "Itabashi Ku             145\n",
              "Adachi Ku               105\n",
              "Meguro Ku                49\n",
              "Nerima Ku                48\n",
              "Fuchu Shi                33\n",
              "Hachioji Shi             22\n",
              "Machida Shi              20\n",
              "Hino Shi                 19\n",
              "Higashimurayama Shi      17\n",
              "Kokubunji Shi            11\n",
              "Chofu Shi                11\n",
              "Akiruno Shi              10\n",
              "Mitaka Shi                9\n",
              "Inagi Shi                 9\n",
              "Kunitachi Shi             9\n",
              "Tama Shi                  8\n",
              "Komae Shi                 8\n",
              "Koganei Shi               8\n",
              "Nishitokyo Shi            8\n",
              "Ome Shi                   8\n",
              "Tachikawa Shi             5\n",
              "Musashino Shi             5\n",
              "Higashikurume Shi         4\n",
              "Hamura Shi                4\n",
              "Kodaira Shi               3\n",
              "Okutama Machi             3\n",
              "Musashimurayama Shi       2\n",
              "Akishima Shi              2\n",
              "Kiyose Shi                2\n",
              "Hinohara Mura             1\n",
              "Name: neighbourhood, dtype: int64"
            ]
          },
          "metadata": {},
          "execution_count": 150
        }
      ]
    },
    {
      "cell_type": "markdown",
      "source": [
        "Agora vamos ver a média do preço dos bairros. Perceba que o primeiro bairro é o mesmo que citamos acima."
      ],
      "metadata": {
        "id": "9AUhLncMexWw"
      }
    },
    {
      "cell_type": "code",
      "source": [
        "# ver preços por bairros, na média\n",
        "bairros = df_clean.groupby(df_clean['neighbourhood']).mean()\n",
        "bairros_final = bairros['price'].sort_values(ascending=False)\n",
        "bairros_final"
      ],
      "metadata": {
        "colab": {
          "base_uri": "https://localhost:8080/"
        },
        "id": "8OR0aA4ocUJC",
        "outputId": "e80dc832-0454-4925-ed92-716c4aa9cafd"
      },
      "execution_count": 160,
      "outputs": [
        {
          "output_type": "execute_result",
          "data": {
            "text/plain": [
              "neighbourhood\n",
              "Hinohara Mura          30686.000000\n",
              "Kodaira Shi            20581.000000\n",
              "Mitaka Shi             16424.111111\n",
              "Chiyoda Ku             15502.679803\n",
              "Chuo Ku                15387.895238\n",
              "Okutama Machi          15219.000000\n",
              "Minato Ku              14701.513441\n",
              "Komae Shi              14035.750000\n",
              "Shibuya Ku             13516.122302\n",
              "Shinagawa Ku           13152.285714\n",
              "Musashino Shi          12728.600000\n",
              "Meguro Ku              12393.000000\n",
              "Shinjuku Ku            11578.072555\n",
              "Higashimurayama Shi    11255.176471\n",
              "Nishitokyo Shi         11110.250000\n",
              "Koganei Shi            10918.500000\n",
              "Setagaya Ku            10900.341216\n",
              "Taito Ku               10896.628632\n",
              "Nakano Ku              10757.119231\n",
              "Suginami Ku            10491.612745\n",
              "Arakawa Ku             10388.978022\n",
              "Toshima Ku             10306.558904\n",
              "Hachioji Shi           10182.909091\n",
              "Bunkyo Ku              10087.516556\n",
              "Kita Ku                 9926.880658\n",
              "Sumida Ku               9920.925373\n",
              "Katsushika Ku           9895.105058\n",
              "Chofu Shi               9546.363636\n",
              "Edogawa Ku              9545.790323\n",
              "Ota Ku                  9495.566860\n",
              "Itabashi Ku             9065.358621\n",
              "Koto Ku                 8805.861272\n",
              "Adachi Ku               8767.314286\n",
              "Ome Shi                 8405.375000\n",
              "Kiyose Shi              7625.000000\n",
              "Tachikawa Shi           7624.200000\n",
              "Machida Shi             6925.000000\n",
              "Nerima Ku               6759.270833\n",
              "Kokubunji Shi           6728.727273\n",
              "Akiruno Shi             6238.600000\n",
              "Hamura Shi              6150.500000\n",
              "Tama Shi                5826.875000\n",
              "Fuchu Shi               5527.000000\n",
              "Hino Shi                5351.052632\n",
              "Akishima Shi            4550.000000\n",
              "Inagi Shi               4521.555556\n",
              "Higashikurume Shi       4425.000000\n",
              "Kunitachi Shi           4222.222222\n",
              "Musashimurayama Shi     3000.000000\n",
              "Name: price, dtype: float64"
            ]
          },
          "metadata": {},
          "execution_count": 160
        }
      ]
    },
    {
      "cell_type": "markdown",
      "source": [
        "Se tivermos verificado apenas o dado da média de preço, poderiamos inferir que o bairro Hinohara Mura seria o mais caro. Entretanto, também vimos que esse bairro tem apenas uma acomodação. "
      ],
      "metadata": {
        "id": "krGgnXXlbeAy"
      }
    },
    {
      "cell_type": "code",
      "source": [
        "final2 = pd.concat([bairros_final,qtde_bairros], axis=1)\n",
        "final_apres = final2.rename(columns={'neighbourhood':'qty_on_neigh'})\n",
        "final_apres = final_apres.rename(columns={'price':'mean'})\n",
        "final_apres[:10]\n"
      ],
      "metadata": {
        "colab": {
          "base_uri": "https://localhost:8080/",
          "height": 363
        },
        "id": "p6qZSfP8eSM0",
        "outputId": "e55d67cc-c8dd-4da4-854c-7ff27ae66c0b"
      },
      "execution_count": 171,
      "outputs": [
        {
          "output_type": "execute_result",
          "data": {
            "text/plain": [
              "                       mean  qty_on_neigh\n",
              "Hinohara Mura  30686.000000             1\n",
              "Kodaira Shi    20581.000000             3\n",
              "Mitaka Shi     16424.111111             9\n",
              "Chiyoda Ku     15502.679803           203\n",
              "Chuo Ku        15387.895238           315\n",
              "Okutama Machi  15219.000000             3\n",
              "Minato Ku      14701.513441           372\n",
              "Komae Shi      14035.750000             8\n",
              "Shibuya Ku     13516.122302           556\n",
              "Shinagawa Ku   13152.285714           168"
            ],
            "text/html": [
              "\n",
              "  <div id=\"df-e599fd8f-8948-41c9-a50f-507d2fa6013e\">\n",
              "    <div class=\"colab-df-container\">\n",
              "      <div>\n",
              "<style scoped>\n",
              "    .dataframe tbody tr th:only-of-type {\n",
              "        vertical-align: middle;\n",
              "    }\n",
              "\n",
              "    .dataframe tbody tr th {\n",
              "        vertical-align: top;\n",
              "    }\n",
              "\n",
              "    .dataframe thead th {\n",
              "        text-align: right;\n",
              "    }\n",
              "</style>\n",
              "<table border=\"1\" class=\"dataframe\">\n",
              "  <thead>\n",
              "    <tr style=\"text-align: right;\">\n",
              "      <th></th>\n",
              "      <th>mean</th>\n",
              "      <th>qty_on_neigh</th>\n",
              "    </tr>\n",
              "  </thead>\n",
              "  <tbody>\n",
              "    <tr>\n",
              "      <th>Hinohara Mura</th>\n",
              "      <td>30686.000000</td>\n",
              "      <td>1</td>\n",
              "    </tr>\n",
              "    <tr>\n",
              "      <th>Kodaira Shi</th>\n",
              "      <td>20581.000000</td>\n",
              "      <td>3</td>\n",
              "    </tr>\n",
              "    <tr>\n",
              "      <th>Mitaka Shi</th>\n",
              "      <td>16424.111111</td>\n",
              "      <td>9</td>\n",
              "    </tr>\n",
              "    <tr>\n",
              "      <th>Chiyoda Ku</th>\n",
              "      <td>15502.679803</td>\n",
              "      <td>203</td>\n",
              "    </tr>\n",
              "    <tr>\n",
              "      <th>Chuo Ku</th>\n",
              "      <td>15387.895238</td>\n",
              "      <td>315</td>\n",
              "    </tr>\n",
              "    <tr>\n",
              "      <th>Okutama Machi</th>\n",
              "      <td>15219.000000</td>\n",
              "      <td>3</td>\n",
              "    </tr>\n",
              "    <tr>\n",
              "      <th>Minato Ku</th>\n",
              "      <td>14701.513441</td>\n",
              "      <td>372</td>\n",
              "    </tr>\n",
              "    <tr>\n",
              "      <th>Komae Shi</th>\n",
              "      <td>14035.750000</td>\n",
              "      <td>8</td>\n",
              "    </tr>\n",
              "    <tr>\n",
              "      <th>Shibuya Ku</th>\n",
              "      <td>13516.122302</td>\n",
              "      <td>556</td>\n",
              "    </tr>\n",
              "    <tr>\n",
              "      <th>Shinagawa Ku</th>\n",
              "      <td>13152.285714</td>\n",
              "      <td>168</td>\n",
              "    </tr>\n",
              "  </tbody>\n",
              "</table>\n",
              "</div>\n",
              "      <button class=\"colab-df-convert\" onclick=\"convertToInteractive('df-e599fd8f-8948-41c9-a50f-507d2fa6013e')\"\n",
              "              title=\"Convert this dataframe to an interactive table.\"\n",
              "              style=\"display:none;\">\n",
              "        \n",
              "  <svg xmlns=\"http://www.w3.org/2000/svg\" height=\"24px\"viewBox=\"0 0 24 24\"\n",
              "       width=\"24px\">\n",
              "    <path d=\"M0 0h24v24H0V0z\" fill=\"none\"/>\n",
              "    <path d=\"M18.56 5.44l.94 2.06.94-2.06 2.06-.94-2.06-.94-.94-2.06-.94 2.06-2.06.94zm-11 1L8.5 8.5l.94-2.06 2.06-.94-2.06-.94L8.5 2.5l-.94 2.06-2.06.94zm10 10l.94 2.06.94-2.06 2.06-.94-2.06-.94-.94-2.06-.94 2.06-2.06.94z\"/><path d=\"M17.41 7.96l-1.37-1.37c-.4-.4-.92-.59-1.43-.59-.52 0-1.04.2-1.43.59L10.3 9.45l-7.72 7.72c-.78.78-.78 2.05 0 2.83L4 21.41c.39.39.9.59 1.41.59.51 0 1.02-.2 1.41-.59l7.78-7.78 2.81-2.81c.8-.78.8-2.07 0-2.86zM5.41 20L4 18.59l7.72-7.72 1.47 1.35L5.41 20z\"/>\n",
              "  </svg>\n",
              "      </button>\n",
              "      \n",
              "  <style>\n",
              "    .colab-df-container {\n",
              "      display:flex;\n",
              "      flex-wrap:wrap;\n",
              "      gap: 12px;\n",
              "    }\n",
              "\n",
              "    .colab-df-convert {\n",
              "      background-color: #E8F0FE;\n",
              "      border: none;\n",
              "      border-radius: 50%;\n",
              "      cursor: pointer;\n",
              "      display: none;\n",
              "      fill: #1967D2;\n",
              "      height: 32px;\n",
              "      padding: 0 0 0 0;\n",
              "      width: 32px;\n",
              "    }\n",
              "\n",
              "    .colab-df-convert:hover {\n",
              "      background-color: #E2EBFA;\n",
              "      box-shadow: 0px 1px 2px rgba(60, 64, 67, 0.3), 0px 1px 3px 1px rgba(60, 64, 67, 0.15);\n",
              "      fill: #174EA6;\n",
              "    }\n",
              "\n",
              "    [theme=dark] .colab-df-convert {\n",
              "      background-color: #3B4455;\n",
              "      fill: #D2E3FC;\n",
              "    }\n",
              "\n",
              "    [theme=dark] .colab-df-convert:hover {\n",
              "      background-color: #434B5C;\n",
              "      box-shadow: 0px 1px 3px 1px rgba(0, 0, 0, 0.15);\n",
              "      filter: drop-shadow(0px 1px 2px rgba(0, 0, 0, 0.3));\n",
              "      fill: #FFFFFF;\n",
              "    }\n",
              "  </style>\n",
              "\n",
              "      <script>\n",
              "        const buttonEl =\n",
              "          document.querySelector('#df-e599fd8f-8948-41c9-a50f-507d2fa6013e button.colab-df-convert');\n",
              "        buttonEl.style.display =\n",
              "          google.colab.kernel.accessAllowed ? 'block' : 'none';\n",
              "\n",
              "        async function convertToInteractive(key) {\n",
              "          const element = document.querySelector('#df-e599fd8f-8948-41c9-a50f-507d2fa6013e');\n",
              "          const dataTable =\n",
              "            await google.colab.kernel.invokeFunction('convertToInteractive',\n",
              "                                                     [key], {});\n",
              "          if (!dataTable) return;\n",
              "\n",
              "          const docLinkHtml = 'Like what you see? Visit the ' +\n",
              "            '<a target=\"_blank\" href=https://colab.research.google.com/notebooks/data_table.ipynb>data table notebook</a>'\n",
              "            + ' to learn more about interactive tables.';\n",
              "          element.innerHTML = '';\n",
              "          dataTable['output_type'] = 'display_data';\n",
              "          await google.colab.output.renderOutput(dataTable, element);\n",
              "          const docLink = document.createElement('div');\n",
              "          docLink.innerHTML = docLinkHtml;\n",
              "          element.appendChild(docLink);\n",
              "        }\n",
              "      </script>\n",
              "    </div>\n",
              "  </div>\n",
              "  "
            ]
          },
          "metadata": {},
          "execution_count": 171
        }
      ]
    },
    {
      "cell_type": "markdown",
      "source": [
        "Pela tabela apresentada acima, podemos perceber que os bairros mais caros são os que tem a maior média (`mean`) e maior quantidade de airbnbs no bairro (`qty_on_neigh`). Logo, são os bairros:\n",
        "* Chiyoda Ku \n",
        "* Chuo Ku\n",
        "* Minato Ku"
      ],
      "metadata": {
        "id": "4M8ygnjgke5G"
      }
    },
    {
      "cell_type": "code",
      "metadata": {
        "id": "UxVJqJ_3W59I",
        "colab": {
          "base_uri": "https://localhost:8080/",
          "height": 473
        },
        "outputId": "9be991ca-847f-49f6-f48c-1d5e247b1482"
      },
      "source": [
        "# plotar os imóveis pela latitude-longitude\n",
        "df_clean.plot(kind='scatter', x='longitude', y='latitude', alpha=0.4, c=df_clean['price'], s=8, cmap=plt.get_cmap('jet'), figsize=(12,8));"
      ],
      "execution_count": 175,
      "outputs": [
        {
          "output_type": "display_data",
          "data": {
            "text/plain": [
              "<Figure size 864x576 with 2 Axes>"
            ],
            "image/png": "[encoded data removed]"
          },
          "metadata": {
            "needs_background": "light"
          }
        }
      ]
    },
    {
      "cell_type": "markdown",
      "metadata": {
        "id": "vTneAMRUYvr1"
      },
      "source": [
        "### **Q7. Qual é a média do mínimo de noites para aluguel (minimum_nights)?**"
      ]
    },
    {
      "cell_type": "code",
      "metadata": {
        "id": "_VzNhrEgY82N",
        "colab": {
          "base_uri": "https://localhost:8080/"
        },
        "outputId": "e8bd6270-07d6-493c-89ce-5c1b20bd6c5e"
      },
      "source": [
        "# ver a média da coluna `minimum_nights``\n",
        "df_clean.minimum_nights.mean()"
      ],
      "execution_count": 176,
      "outputs": [
        {
          "output_type": "execute_result",
          "data": {
            "text/plain": [
              "2.200978351373855"
            ]
          },
          "metadata": {},
          "execution_count": 176
        }
      ]
    },
    {
      "cell_type": "markdown",
      "metadata": {
        "id": "GkvAg623RjoR"
      },
      "source": [
        "## Conclusões\n"
      ]
    },
    {
      "cell_type": "markdown",
      "metadata": {
        "id": "rbZ3Hsy9Ypw8"
      },
      "source": [
        "Após analisar os dados do Portal Inside, podemos chegar a algumas conclusões interessantes para os proprietários de Airbnb ou que pretendem colocar sua propriedade para alugar.\n",
        "\n",
        "* **Foque bastante nos reviews de seus guests.** Peçam para eles escreverem e responda-os. Isso fará com que o número de reviews aumente cada vez mais e valorizar a sua acomodação dentro da plataforma.\n",
        "* **Se a sua diária for cara, pense nas quantidades de noites mínimas que você irá colocar.** Conforme analisamos acima, quanto mais caro você for alugar sua acomodação, menos noites deverão ser consideradas como mínimas. \n",
        "Vale ressaltar que a média de noites mínimas no Japão é de ** 2.2 noites**. Ou seja: quanto mais caro, mais próximo de 2 deverá ser essa variável.\n",
        "* **Foque nos bairros mais caros de Tóquio!** Os bairros de *Chiyoda Ku*, *Chuo Ku* ou *Minato Ku* são os mais valorizados da capital nipônica. Caso tenha acomodações nesses locais, pense em um valor um pouco mais alto. Valerá a pena!\n",
        "* **Privacidade é bem valiosa.** Cerca de 69% das acomodações alugadas são casas ou apartamentos inteiros. Então colocar esse tipo de propriedade para alugar terá mais demanda. "
      ]
    }
  ]
}